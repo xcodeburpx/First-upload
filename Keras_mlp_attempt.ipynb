{
 "cells": [
  {
   "cell_type": "markdown",
   "metadata": {},
   "source": [
    "Hello there!\n",
    "This is my first attempt of publishing some code in GitHub.\n",
    "I will try to demonstrate the usage of Keras library and simple MLP network.\n",
    "\n",
    "For this network I am using Keras with Tensorflow backend which is GPU enabled(NVIDIA GeForce GTX 850M 2GB).\n",
    "\n",
    "First of all we import libraries:"
   ]
  },
  {
   "cell_type": "code",
   "execution_count": 1,
   "metadata": {
    "collapsed": false
   },
   "outputs": [
    {
     "name": "stderr",
     "output_type": "stream",
     "text": [
      "Using TensorFlow backend.\n"
     ]
    }
   ],
   "source": [
    "import numpy as np\n",
    "from tensorflow.examples.tutorials.mnist import input_data\n",
    "import matplotlib.pyplot as plt\n",
    "from keras.layers import Input, Dense, Dropout, merge\n",
    "from keras.models import Model\n",
    "from keras.callbacks import TensorBoard\n",
    "from keras.utils.visualize_util import plot\n",
    "%matplotlib inline"
   ]
  },
  {
   "cell_type": "markdown",
   "metadata": {},
   "source": [
    "Then we download MNIST dataset to tmp file:"
   ]
  },
  {
   "cell_type": "code",
   "execution_count": 2,
   "metadata": {
    "collapsed": false
   },
   "outputs": [
    {
     "name": "stdout",
     "output_type": "stream",
     "text": [
      "Extracting /tmp/data/train-images-idx3-ubyte.gz\n",
      "Extracting /tmp/data/train-labels-idx1-ubyte.gz\n",
      "Extracting /tmp/data/t10k-images-idx3-ubyte.gz\n",
      "Extracting /tmp/data/t10k-labels-idx1-ubyte.gz\n"
     ]
    }
   ],
   "source": [
    "mnist = input_data.read_data_sets(\"/tmp/data/\", one_hot = True)"
   ]
  },
  {
   "cell_type": "markdown",
   "metadata": {},
   "source": [
    "We divide the data on to training and testing datasets"
   ]
  },
  {
   "cell_type": "code",
   "execution_count": 3,
   "metadata": {
    "collapsed": false
   },
   "outputs": [],
   "source": [
    "X_train, y_train = mnist.train.images, mnist.train.labels\n",
    "X_test, y_test = mnist.test.images, mnist.test.labels"
   ]
  },
  {
   "cell_type": "markdown",
   "metadata": {},
   "source": [
    "We create the network:"
   ]
  },
  {
   "cell_type": "code",
   "execution_count": 4,
   "metadata": {
    "collapsed": false
   },
   "outputs": [],
   "source": [
    "# Input \n",
    "main_input = Input(shape=(784,), name='main_input')\n",
    "\n",
    "# First hidden layer\n",
    "x = Dense(128, init='uniform', activation='relu', name='hidden_1')(main_input)\n",
    "x = Dropout(0.5)(x)\n",
    "\n",
    "# Branch left hidden layer\n",
    "x_1 = Dense(64, init='uniform', activation='relu', name='hidden_2')(x)\n",
    "x_1 = Dropout(0.5)(x_1)\n",
    "\n",
    "# Branch right hidden layer\n",
    "x_2 = Dense(64, init='uniform', activation='relu', name='hidden_3')(x)\n",
    "x_2 = Dropout(0.5)(x_2)\n",
    "\n",
    "# Merged hidden layer\n",
    "x_3 = merge([x_1, x_2], mode='concat')\n",
    "x_3 = Dense(32, init='uniform', activation='relu', name='merged')(x_3)\n",
    "\n",
    "# Output\n",
    "main_output = Dense(10, activation='sigmoid', name='main_output')(x_3)"
   ]
  },
  {
   "cell_type": "markdown",
   "metadata": {},
   "source": [
    "Now we just need to compile the network"
   ]
  },
  {
   "cell_type": "code",
   "execution_count": 5,
   "metadata": {
    "collapsed": true
   },
   "outputs": [],
   "source": [
    "tensorboard = TensorBoard(log_dir=\"/tmp/tensorflow_logs/example\", write_graph=True,\n",
    "                          write_images=False, histogram_freq=0)\n",
    "\n",
    "model = Model(input=[main_input], output=[main_output])\n",
    "\n",
    "model.compile(optimizer='adam', loss='categorical_crossentropy',\n",
    "             callbacks=[tensorboard], metrics=['accuracy'])"
   ]
  },
  {
   "cell_type": "markdown",
   "metadata": {},
   "source": [
    "Now we train the network:"
   ]
  },
  {
   "cell_type": "code",
   "execution_count": 6,
   "metadata": {
    "collapsed": false,
    "scrolled": true
   },
   "outputs": [
    {
     "name": "stderr",
     "output_type": "stream",
     "text": [
      "/home/kinshiryuu/anaconda3/lib/python3.5/site-packages/keras/backend/tensorflow_backend.py:1620: UserWarning: Expected no kwargs, you passed 1\n",
      "kwargs passed to function are ignored with Tensorflow backend\n",
      "  warnings.warn('\\n'.join(msg))\n"
     ]
    },
    {
     "name": "stdout",
     "output_type": "stream",
     "text": [
      "Train on 55000 samples, validate on 10000 samples\n",
      "Epoch 1/15\n",
      "55000/55000 [==============================] - 8s - loss: 0.5403 - acc: 0.8339 - val_loss: 0.1980 - val_acc: 0.9372\n",
      "Epoch 2/15\n",
      "55000/55000 [==============================] - 6s - loss: 0.2845 - acc: 0.9172 - val_loss: 0.1368 - val_acc: 0.9590\n",
      "Epoch 3/15\n",
      "55000/55000 [==============================] - 7s - loss: 0.2411 - acc: 0.9308 - val_loss: 0.1321 - val_acc: 0.9595\n",
      "Epoch 4/15\n",
      "55000/55000 [==============================] - 7s - loss: 0.2182 - acc: 0.9366 - val_loss: 0.1188 - val_acc: 0.9634\n",
      "Epoch 5/15\n",
      "55000/55000 [==============================] - 7s - loss: 0.2011 - acc: 0.9418 - val_loss: 0.1130 - val_acc: 0.9675\n",
      "Epoch 6/15\n",
      "55000/55000 [==============================] - 7s - loss: 0.1912 - acc: 0.9441 - val_loss: 0.1039 - val_acc: 0.9685\n",
      "Epoch 7/15\n",
      "55000/55000 [==============================] - 7s - loss: 0.1824 - acc: 0.9459 - val_loss: 0.1015 - val_acc: 0.9709\n",
      "Epoch 8/15\n",
      "55000/55000 [==============================] - 7s - loss: 0.1764 - acc: 0.9486 - val_loss: 0.0994 - val_acc: 0.9708\n",
      "Epoch 9/15\n",
      "55000/55000 [==============================] - 7s - loss: 0.1685 - acc: 0.9500 - val_loss: 0.0992 - val_acc: 0.9714\n",
      "Epoch 10/15\n",
      "55000/55000 [==============================] - 7s - loss: 0.1647 - acc: 0.9509 - val_loss: 0.0991 - val_acc: 0.9705\n",
      "Epoch 11/15\n",
      "55000/55000 [==============================] - 7s - loss: 0.1589 - acc: 0.9540 - val_loss: 0.0938 - val_acc: 0.9724\n",
      "Epoch 12/15\n",
      "55000/55000 [==============================] - 7s - loss: 0.1522 - acc: 0.9545 - val_loss: 0.0966 - val_acc: 0.9713\n",
      "Epoch 13/15\n",
      "55000/55000 [==============================] - 7s - loss: 0.1531 - acc: 0.9557 - val_loss: 0.0904 - val_acc: 0.9723\n",
      "Epoch 14/15\n",
      "55000/55000 [==============================] - 7s - loss: 0.1473 - acc: 0.9570 - val_loss: 0.0933 - val_acc: 0.9716\n",
      "Epoch 15/15\n",
      "55000/55000 [==============================] - 7s - loss: 0.1450 - acc: 0.9575 - val_loss: 0.0880 - val_acc: 0.9737\n"
     ]
    },
    {
     "data": {
      "text/plain": [
       "<keras.callbacks.History at 0x7fbfcfdbcdd8>"
      ]
     },
     "execution_count": 6,
     "metadata": {},
     "output_type": "execute_result"
    }
   ],
   "source": [
    "model.fit({'main_input': X_train},\n",
    "          {'main_output': y_train},\n",
    "          nb_epoch=15, batch_size=32,\n",
    "          validation_data=(X_test, y_test))"
   ]
  },
  {
   "cell_type": "markdown",
   "metadata": {
    "collapsed": true
   },
   "source": [
    "Now we save out graph:"
   ]
  },
  {
   "cell_type": "code",
   "execution_count": 7,
   "metadata": {
    "collapsed": true
   },
   "outputs": [],
   "source": [
    "plot(model, to_file='model_1.png')"
   ]
  },
  {
   "cell_type": "markdown",
   "metadata": {
    "collapsed": true
   },
   "source": [
    "You can see how this network looks like:"
   ]
  },
  {
   "cell_type": "code",
   "execution_count": 8,
   "metadata": {
    "collapsed": false
   },
   "outputs": [
    {
     "data": {
      "image/png": "[encoded data removed]",
      "text/plain": [
       "<IPython.core.display.Image object>"
      ]
     },
     "execution_count": 8,
     "metadata": {},
     "output_type": "execute_result"
    }
   ],
   "source": [
    "from IPython.display import Image\n",
    "Image(filename='model_1.png')"
   ]
  },
  {
   "cell_type": "markdown",
   "metadata": {},
   "source": [
    "Or if you want to analize the network in Tensorboard use this command in terminal: \"tensorboard --logdir=/tmp/tensorflow_logs\"\n",
    "\n",
    "If you want to display data properly use only newest log."
   ]
  },
  {
   "cell_type": "markdown",
   "metadata": {},
   "source": [
    "Thanks for attention! I hope this can help someone! Let me know if something is bad or you don't understand something."
   ]
  }
 ],
 "metadata": {
  "anaconda-cloud": {},
  "kernelspec": {
   "display_name": "Python [conda root]",
   "language": "python",
   "name": "conda-root-py"
  },
  "language_info": {
   "codemirror_mode": {
    "name": "ipython",
    "version": 3
   },
   "file_extension": ".py",
   "mimetype": "text/x-python",
   "name": "python",
   "nbconvert_exporter": "python",
   "pygments_lexer": "ipython3",
   "version": "3.5.2"
  }
 },
 "nbformat": 4,
 "nbformat_minor": 1
}
